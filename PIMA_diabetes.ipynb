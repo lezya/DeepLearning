{
  "nbformat": 4,
  "nbformat_minor": 0,
  "metadata": {
    "colab": {
      "name": "PIMA diabetes",
      "provenance": [],
      "authorship_tag": "ABX9TyPi7JTgYwPxQTKRmgv1Cblu",
      "include_colab_link": true
    },
    "kernelspec": {
      "name": "python3",
      "display_name": "Python 3"
    }
  },
  "cells": [
    {
      "cell_type": "markdown",
      "metadata": {
        "id": "view-in-github",
        "colab_type": "text"
      },
      "source": [
        "<a href=\"https://colab.research.google.com/github/lezya/DeepLearning/blob/master/PIMA_diabetes.ipynb\" target=\"_parent\"><img src=\"https://colab.research.google.com/assets/colab-badge.svg\" alt=\"Open In Colab\"/></a>"
      ]
    },
    {
      "cell_type": "code",
      "metadata": {
        "id": "LobtulmUvUOG"
      },
      "source": [
        "import tensorflow as tf\n",
        "import tensorflow.keras as k\n",
        "import matplotlib.pyplot as plt\n",
        "import numpy as np\n",
        "import pandas as pd"
      ],
      "execution_count": 78,
      "outputs": []
    },
    {
      "cell_type": "code",
      "metadata": {
        "id": "OeAZrE87vmAL"
      },
      "source": [
        "data = pd.read_csv(\"pima-indians-diabetes.csv\", sep=',', header=None)    #Importthe data"
      ],
      "execution_count": 15,
      "outputs": []
    },
    {
      "cell_type": "code",
      "metadata": {
        "id": "3jrP3_KO3V3l"
      },
      "source": [
        "data=data.sample(frac=1)    #Random Shuffle the data"
      ],
      "execution_count": 57,
      "outputs": []
    },
    {
      "cell_type": "code",
      "metadata": {
        "id": "qcsM5820yyI4"
      },
      "source": [
        "train_data= data[:576]            #Split the data\n",
        "test_data = data[576:768]"
      ],
      "execution_count": 85,
      "outputs": []
    },
    {
      "cell_type": "code",
      "metadata": {
        "id": "0QLBzdK28pFO"
      },
      "source": [
        "labels_train = train_data[8]       #'Training and test data labels'\n",
        "labels_test = test_data[8]"
      ],
      "execution_count": 95,
      "outputs": []
    },
    {
      "cell_type": "code",
      "metadata": {
        "id": "gU-cmYmz2Ie1"
      },
      "source": [
        "x_train=train_data.iloc[:,0:8]          #inputs to the model\n",
        "x_test=test_data.iloc[:,0:8]          "
      ],
      "execution_count": 96,
      "outputs": []
    },
    {
      "cell_type": "code",
      "metadata": {
        "id": "yuFGgokFDUnk"
      },
      "source": [
        "model = k.Sequential()\n",
        "model.add(k.Input(shape=(x_train.shape[1:])))\n",
        "model.add(k.layers.Dense(10,activation='relu'))\n",
        "model.add(k.layers.Dense(10,activation='relu'))\n",
        "model.add(k.layers.Dropout(0.1))\n",
        "model.add(k.layers.Dense(2,activation='relu'))"
      ],
      "execution_count": 97,
      "outputs": []
    },
    {
      "cell_type": "code",
      "metadata": {
        "id": "Hnof3gFLESwp"
      },
      "source": [
        "model.compile(optimizer='adam', \n",
        "              loss='mean_squared_error',\n",
        "              metrics=['mae'])"
      ],
      "execution_count": 98,
      "outputs": []
    },
    {
      "cell_type": "code",
      "metadata": {
        "id": "yky2vYiHEklx",
        "outputId": "9d16b9d9-41c3-4b61-dc34-f6e913726be5",
        "colab": {
          "base_uri": "https://localhost:8080/",
          "height": 34
        }
      },
      "source": [
        "model.summary"
      ],
      "execution_count": 99,
      "outputs": [
        {
          "output_type": "execute_result",
          "data": {
            "text/plain": [
              "<bound method Model.summary of <tensorflow.python.keras.engine.sequential.Sequential object at 0x7fb98dd2f320>>"
            ]
          },
          "metadata": {
            "tags": []
          },
          "execution_count": 99
        }
      ]
    },
    {
      "cell_type": "code",
      "metadata": {
        "id": "Ttd_igC0ETnt",
        "outputId": "935c3343-7ed9-4640-86f9-a1ed6a8e419c",
        "colab": {
          "base_uri": "https://localhost:8080/",
          "height": 706
        }
      },
      "source": [
        "model.fit(x_train,labels_train,epochs=20,batch_size = 64,validation_split = 0.2)"
      ],
      "execution_count": 101,
      "outputs": [
        {
          "output_type": "stream",
          "text": [
            "Epoch 1/20\n",
            "8/8 [==============================] - 0s 22ms/step - loss: 1163.3422 - mae: 16.7395 - val_loss: 607.0941 - val_mae: 14.4898\n",
            "Epoch 2/20\n",
            "8/8 [==============================] - 0s 3ms/step - loss: 884.0165 - mae: 14.8578 - val_loss: 409.1084 - val_mae: 11.8545\n",
            "Epoch 3/20\n",
            "8/8 [==============================] - 0s 5ms/step - loss: 603.4214 - mae: 12.3368 - val_loss: 254.6151 - val_mae: 9.2953\n",
            "Epoch 4/20\n",
            "8/8 [==============================] - 0s 4ms/step - loss: 446.9731 - mae: 9.9045 - val_loss: 144.6819 - val_mae: 6.8846\n",
            "Epoch 5/20\n",
            "8/8 [==============================] - 0s 4ms/step - loss: 223.6270 - mae: 7.3808 - val_loss: 73.8617 - val_mae: 4.6861\n",
            "Epoch 6/20\n",
            "8/8 [==============================] - 0s 3ms/step - loss: 186.7462 - mae: 5.6098 - val_loss: 31.9573 - val_mae: 2.7531\n",
            "Epoch 7/20\n",
            "8/8 [==============================] - 0s 4ms/step - loss: 76.5908 - mae: 3.6677 - val_loss: 12.0048 - val_mae: 1.4262\n",
            "Epoch 8/20\n",
            "8/8 [==============================] - 0s 4ms/step - loss: 65.3998 - mae: 2.7827 - val_loss: 4.3602 - val_mae: 0.6912\n",
            "Epoch 9/20\n",
            "8/8 [==============================] - 0s 4ms/step - loss: 45.1030 - mae: 1.9909 - val_loss: 1.9820 - val_mae: 0.4783\n",
            "Epoch 10/20\n",
            "8/8 [==============================] - 0s 4ms/step - loss: 39.3462 - mae: 1.8738 - val_loss: 0.8609 - val_mae: 0.4234\n",
            "Epoch 11/20\n",
            "8/8 [==============================] - 0s 4ms/step - loss: 32.2919 - mae: 1.6798 - val_loss: 0.4262 - val_mae: 0.3874\n",
            "Epoch 12/20\n",
            "8/8 [==============================] - 0s 4ms/step - loss: 21.8568 - mae: 1.3791 - val_loss: 0.3707 - val_mae: 0.3707\n",
            "Epoch 13/20\n",
            "8/8 [==============================] - 0s 3ms/step - loss: 16.8754 - mae: 1.1892 - val_loss: 0.3707 - val_mae: 0.3707\n",
            "Epoch 14/20\n",
            "8/8 [==============================] - 0s 4ms/step - loss: 22.5575 - mae: 1.2165 - val_loss: 0.3707 - val_mae: 0.3707\n",
            "Epoch 15/20\n",
            "8/8 [==============================] - 0s 4ms/step - loss: 12.7380 - mae: 0.9136 - val_loss: 0.3707 - val_mae: 0.3707\n",
            "Epoch 16/20\n",
            "8/8 [==============================] - 0s 4ms/step - loss: 17.6873 - mae: 0.9613 - val_loss: 0.3707 - val_mae: 0.3707\n",
            "Epoch 17/20\n",
            "8/8 [==============================] - 0s 4ms/step - loss: 10.6567 - mae: 0.8767 - val_loss: 0.3707 - val_mae: 0.3707\n",
            "Epoch 18/20\n",
            "8/8 [==============================] - 0s 4ms/step - loss: 12.2640 - mae: 0.8095 - val_loss: 0.3707 - val_mae: 0.3707\n",
            "Epoch 19/20\n",
            "8/8 [==============================] - 0s 4ms/step - loss: 13.7206 - mae: 0.8953 - val_loss: 0.3707 - val_mae: 0.3707\n",
            "Epoch 20/20\n",
            "8/8 [==============================] - 0s 3ms/step - loss: 7.9812 - mae: 0.6875 - val_loss: 0.3707 - val_mae: 0.3707\n"
          ],
          "name": "stdout"
        },
        {
          "output_type": "execute_result",
          "data": {
            "text/plain": [
              "<tensorflow.python.keras.callbacks.History at 0x7fb98dbf8748>"
            ]
          },
          "metadata": {
            "tags": []
          },
          "execution_count": 101
        }
      ]
    },
    {
      "cell_type": "code",
      "metadata": {
        "id": "pb0k2d4e9wb4",
        "outputId": "629f54bb-89ca-488e-945a-7abf86538ece",
        "colab": {
          "base_uri": "https://localhost:8080/",
          "height": 50
        }
      },
      "source": [
        "results = model.evaluate(x_test, labels_test, batch_size=32)\n",
        "print(\"test loss, test acc:\", results)"
      ],
      "execution_count": 102,
      "outputs": [
        {
          "output_type": "stream",
          "text": [
            "6/6 [==============================] - 0s 2ms/step - loss: 0.4010 - mae: 0.4010\n",
            "test loss, test acc: [0.4010416567325592, 0.4010416567325592]\n"
          ],
          "name": "stdout"
        }
      ]
    }
  ]
}