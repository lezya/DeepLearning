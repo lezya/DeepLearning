{
  "nbformat": 4,
  "nbformat_minor": 0,
  "metadata": {
    "colab": {
      "name": "Kaggle Facial Keypoints detection.ipynb",
      "provenance": [],
      "collapsed_sections": [],
      "authorship_tag": "ABX9TyPwJcCS6u/vvZn3iGDbFr3O",
      "include_colab_link": true
    },
    "kernelspec": {
      "name": "python3",
      "display_name": "Python 3"
    }
  },
  "cells": [
    {
      "cell_type": "markdown",
      "metadata": {
        "id": "view-in-github",
        "colab_type": "text"
      },
      "source": [
        "<a href=\"https://colab.research.google.com/github/lezya/DeepLearning/blob/master/Kaggle_Facial_Keypoints_detection.ipynb\" target=\"_parent\"><img src=\"https://colab.research.google.com/assets/colab-badge.svg\" alt=\"Open In Colab\"/></a>"
      ]
    },
    {
      "cell_type": "code",
      "metadata": {
        "id": "Rg4PZRPINxcy",
        "colab_type": "code",
        "colab": {}
      },
      "source": [
        "import numpy as np\n",
        "import matplotlib.pyplot as plt\n",
        "import pandas as pd\n",
        "from IPython.display import clear_output\n",
        "from time import sleep\n",
        "import os"
      ],
      "execution_count": null,
      "outputs": []
    },
    {
      "cell_type": "code",
      "metadata": {
        "id": "KyfdbWVREOuS",
        "colab_type": "code",
        "colab": {}
      },
      "source": [
        "Train_Dir = 'training.csv'\n",
        "Test_Dir = 'test.csv'\n",
        "lookid_dir = 'IdLookupTable.csv'\n",
        "train_data = pd.read_csv(Train_Dir)  \n",
        "test_data = pd.read_csv(Test_Dir)\n",
        "lookid_data = pd.read_csv(lookid_dir)"
      ],
      "execution_count": null,
      "outputs": []
    },
    {
      "cell_type": "code",
      "metadata": {
        "id": "64vOxlsREeGP",
        "colab_type": "code",
        "colab": {
          "base_uri": "https://localhost:8080/",
          "height": 1000
        },
        "outputId": "9928c584-e8c2-4afe-a726-a490b8b60f96"
      },
      "source": [
        "train_data.head().T"
      ],
      "execution_count": null,
      "outputs": [
        {
          "output_type": "execute_result",
          "data": {
            "text/html": [
              "<div>\n",
              "<style scoped>\n",
              "    .dataframe tbody tr th:only-of-type {\n",
              "        vertical-align: middle;\n",
              "    }\n",
              "\n",
              "    .dataframe tbody tr th {\n",
              "        vertical-align: top;\n",
              "    }\n",
              "\n",
              "    .dataframe thead th {\n",
              "        text-align: right;\n",
              "    }\n",
              "</style>\n",
              "<table border=\"1\" class=\"dataframe\">\n",
              "  <thead>\n",
              "    <tr style=\"text-align: right;\">\n",
              "      <th></th>\n",
              "      <th>0</th>\n",
              "      <th>1</th>\n",
              "      <th>2</th>\n",
              "      <th>3</th>\n",
              "      <th>4</th>\n",
              "    </tr>\n",
              "  </thead>\n",
              "  <tbody>\n",
              "    <tr>\n",
              "      <th>left_eye_center_x</th>\n",
              "      <td>66.0336</td>\n",
              "      <td>64.3329</td>\n",
              "      <td>65.0571</td>\n",
              "      <td>65.2257</td>\n",
              "      <td>66.7253</td>\n",
              "    </tr>\n",
              "    <tr>\n",
              "      <th>left_eye_center_y</th>\n",
              "      <td>39.0023</td>\n",
              "      <td>34.9701</td>\n",
              "      <td>34.9096</td>\n",
              "      <td>37.2618</td>\n",
              "      <td>39.6213</td>\n",
              "    </tr>\n",
              "    <tr>\n",
              "      <th>right_eye_center_x</th>\n",
              "      <td>30.227</td>\n",
              "      <td>29.9493</td>\n",
              "      <td>30.9038</td>\n",
              "      <td>32.0231</td>\n",
              "      <td>32.2448</td>\n",
              "    </tr>\n",
              "    <tr>\n",
              "      <th>right_eye_center_y</th>\n",
              "      <td>36.4217</td>\n",
              "      <td>33.4487</td>\n",
              "      <td>34.9096</td>\n",
              "      <td>37.2618</td>\n",
              "      <td>38.042</td>\n",
              "    </tr>\n",
              "    <tr>\n",
              "      <th>left_eye_inner_corner_x</th>\n",
              "      <td>59.5821</td>\n",
              "      <td>58.8562</td>\n",
              "      <td>59.412</td>\n",
              "      <td>60.0033</td>\n",
              "      <td>58.5659</td>\n",
              "    </tr>\n",
              "    <tr>\n",
              "      <th>left_eye_inner_corner_y</th>\n",
              "      <td>39.6474</td>\n",
              "      <td>35.2743</td>\n",
              "      <td>36.321</td>\n",
              "      <td>39.1272</td>\n",
              "      <td>39.6213</td>\n",
              "    </tr>\n",
              "    <tr>\n",
              "      <th>left_eye_outer_corner_x</th>\n",
              "      <td>73.1303</td>\n",
              "      <td>70.7227</td>\n",
              "      <td>70.9844</td>\n",
              "      <td>72.3147</td>\n",
              "      <td>72.5159</td>\n",
              "    </tr>\n",
              "    <tr>\n",
              "      <th>left_eye_outer_corner_y</th>\n",
              "      <td>39.97</td>\n",
              "      <td>36.1872</td>\n",
              "      <td>36.321</td>\n",
              "      <td>38.381</td>\n",
              "      <td>39.8845</td>\n",
              "    </tr>\n",
              "    <tr>\n",
              "      <th>right_eye_inner_corner_x</th>\n",
              "      <td>36.3566</td>\n",
              "      <td>36.0347</td>\n",
              "      <td>37.6781</td>\n",
              "      <td>37.6186</td>\n",
              "      <td>36.9824</td>\n",
              "    </tr>\n",
              "    <tr>\n",
              "      <th>right_eye_inner_corner_y</th>\n",
              "      <td>37.3894</td>\n",
              "      <td>34.3615</td>\n",
              "      <td>36.321</td>\n",
              "      <td>38.7541</td>\n",
              "      <td>39.0949</td>\n",
              "    </tr>\n",
              "    <tr>\n",
              "      <th>right_eye_outer_corner_x</th>\n",
              "      <td>23.4529</td>\n",
              "      <td>24.4725</td>\n",
              "      <td>24.9764</td>\n",
              "      <td>25.3073</td>\n",
              "      <td>22.5061</td>\n",
              "    </tr>\n",
              "    <tr>\n",
              "      <th>right_eye_outer_corner_y</th>\n",
              "      <td>37.3894</td>\n",
              "      <td>33.1444</td>\n",
              "      <td>36.6032</td>\n",
              "      <td>38.0079</td>\n",
              "      <td>38.3052</td>\n",
              "    </tr>\n",
              "    <tr>\n",
              "      <th>left_eyebrow_inner_end_x</th>\n",
              "      <td>56.9533</td>\n",
              "      <td>53.9874</td>\n",
              "      <td>55.7425</td>\n",
              "      <td>56.4338</td>\n",
              "      <td>57.2496</td>\n",
              "    </tr>\n",
              "    <tr>\n",
              "      <th>left_eyebrow_inner_end_y</th>\n",
              "      <td>29.0336</td>\n",
              "      <td>28.2759</td>\n",
              "      <td>27.5709</td>\n",
              "      <td>30.9299</td>\n",
              "      <td>30.6722</td>\n",
              "    </tr>\n",
              "    <tr>\n",
              "      <th>left_eyebrow_outer_end_x</th>\n",
              "      <td>80.2271</td>\n",
              "      <td>78.6342</td>\n",
              "      <td>78.8874</td>\n",
              "      <td>77.9103</td>\n",
              "      <td>77.7629</td>\n",
              "    </tr>\n",
              "    <tr>\n",
              "      <th>left_eyebrow_outer_end_y</th>\n",
              "      <td>32.2281</td>\n",
              "      <td>30.4059</td>\n",
              "      <td>32.6516</td>\n",
              "      <td>31.6657</td>\n",
              "      <td>31.7372</td>\n",
              "    </tr>\n",
              "    <tr>\n",
              "      <th>right_eyebrow_inner_end_x</th>\n",
              "      <td>40.2276</td>\n",
              "      <td>42.7289</td>\n",
              "      <td>42.1939</td>\n",
              "      <td>41.6715</td>\n",
              "      <td>38.0354</td>\n",
              "    </tr>\n",
              "    <tr>\n",
              "      <th>right_eyebrow_inner_end_y</th>\n",
              "      <td>29.0023</td>\n",
              "      <td>26.146</td>\n",
              "      <td>28.1355</td>\n",
              "      <td>31.05</td>\n",
              "      <td>30.9354</td>\n",
              "    </tr>\n",
              "    <tr>\n",
              "      <th>right_eyebrow_outer_end_x</th>\n",
              "      <td>16.3564</td>\n",
              "      <td>16.8654</td>\n",
              "      <td>16.7912</td>\n",
              "      <td>20.458</td>\n",
              "      <td>15.9259</td>\n",
              "    </tr>\n",
              "    <tr>\n",
              "      <th>right_eyebrow_outer_end_y</th>\n",
              "      <td>29.6475</td>\n",
              "      <td>27.0589</td>\n",
              "      <td>32.0871</td>\n",
              "      <td>29.9093</td>\n",
              "      <td>30.6722</td>\n",
              "    </tr>\n",
              "    <tr>\n",
              "      <th>nose_tip_x</th>\n",
              "      <td>44.4206</td>\n",
              "      <td>48.2063</td>\n",
              "      <td>47.5573</td>\n",
              "      <td>51.8851</td>\n",
              "      <td>43.2995</td>\n",
              "    </tr>\n",
              "    <tr>\n",
              "      <th>nose_tip_y</th>\n",
              "      <td>57.0668</td>\n",
              "      <td>55.6609</td>\n",
              "      <td>53.5389</td>\n",
              "      <td>54.1665</td>\n",
              "      <td>64.8895</td>\n",
              "    </tr>\n",
              "    <tr>\n",
              "      <th>mouth_left_corner_x</th>\n",
              "      <td>61.1953</td>\n",
              "      <td>56.4214</td>\n",
              "      <td>60.8229</td>\n",
              "      <td>65.5989</td>\n",
              "      <td>60.6714</td>\n",
              "    </tr>\n",
              "    <tr>\n",
              "      <th>mouth_left_corner_y</th>\n",
              "      <td>79.9702</td>\n",
              "      <td>76.352</td>\n",
              "      <td>73.0143</td>\n",
              "      <td>72.7037</td>\n",
              "      <td>77.5232</td>\n",
              "    </tr>\n",
              "    <tr>\n",
              "      <th>mouth_right_corner_x</th>\n",
              "      <td>28.6145</td>\n",
              "      <td>35.1224</td>\n",
              "      <td>33.7263</td>\n",
              "      <td>37.2455</td>\n",
              "      <td>31.1918</td>\n",
              "    </tr>\n",
              "    <tr>\n",
              "      <th>mouth_right_corner_y</th>\n",
              "      <td>77.389</td>\n",
              "      <td>76.0477</td>\n",
              "      <td>72.732</td>\n",
              "      <td>74.1955</td>\n",
              "      <td>76.9973</td>\n",
              "    </tr>\n",
              "    <tr>\n",
              "      <th>mouth_center_top_lip_x</th>\n",
              "      <td>43.3126</td>\n",
              "      <td>46.6846</td>\n",
              "      <td>47.2749</td>\n",
              "      <td>50.3032</td>\n",
              "      <td>44.9627</td>\n",
              "    </tr>\n",
              "    <tr>\n",
              "      <th>mouth_center_top_lip_y</th>\n",
              "      <td>72.9355</td>\n",
              "      <td>70.2666</td>\n",
              "      <td>70.1918</td>\n",
              "      <td>70.0917</td>\n",
              "      <td>73.7074</td>\n",
              "    </tr>\n",
              "    <tr>\n",
              "      <th>mouth_center_bottom_lip_x</th>\n",
              "      <td>43.1307</td>\n",
              "      <td>45.4679</td>\n",
              "      <td>47.2749</td>\n",
              "      <td>51.5612</td>\n",
              "      <td>44.2271</td>\n",
              "    </tr>\n",
              "    <tr>\n",
              "      <th>mouth_center_bottom_lip_y</th>\n",
              "      <td>84.4858</td>\n",
              "      <td>85.4802</td>\n",
              "      <td>78.6594</td>\n",
              "      <td>78.2684</td>\n",
              "      <td>86.8712</td>\n",
              "    </tr>\n",
              "    <tr>\n",
              "      <th>Image</th>\n",
              "      <td>238 236 237 238 240 240 239 241 241 243 240 23...</td>\n",
              "      <td>219 215 204 196 204 211 212 200 180 168 178 19...</td>\n",
              "      <td>144 142 159 180 188 188 184 180 167 132 84 59 ...</td>\n",
              "      <td>193 192 193 194 194 194 193 192 168 111 50 12 ...</td>\n",
              "      <td>147 148 160 196 215 214 216 217 219 220 206 18...</td>\n",
              "    </tr>\n",
              "  </tbody>\n",
              "</table>\n",
              "</div>"
            ],
            "text/plain": [
              "                                                                           0  ...                                                  4\n",
              "left_eye_center_x                                                    66.0336  ...                                            66.7253\n",
              "left_eye_center_y                                                    39.0023  ...                                            39.6213\n",
              "right_eye_center_x                                                    30.227  ...                                            32.2448\n",
              "right_eye_center_y                                                   36.4217  ...                                             38.042\n",
              "left_eye_inner_corner_x                                              59.5821  ...                                            58.5659\n",
              "left_eye_inner_corner_y                                              39.6474  ...                                            39.6213\n",
              "left_eye_outer_corner_x                                              73.1303  ...                                            72.5159\n",
              "left_eye_outer_corner_y                                                39.97  ...                                            39.8845\n",
              "right_eye_inner_corner_x                                             36.3566  ...                                            36.9824\n",
              "right_eye_inner_corner_y                                             37.3894  ...                                            39.0949\n",
              "right_eye_outer_corner_x                                             23.4529  ...                                            22.5061\n",
              "right_eye_outer_corner_y                                             37.3894  ...                                            38.3052\n",
              "left_eyebrow_inner_end_x                                             56.9533  ...                                            57.2496\n",
              "left_eyebrow_inner_end_y                                             29.0336  ...                                            30.6722\n",
              "left_eyebrow_outer_end_x                                             80.2271  ...                                            77.7629\n",
              "left_eyebrow_outer_end_y                                             32.2281  ...                                            31.7372\n",
              "right_eyebrow_inner_end_x                                            40.2276  ...                                            38.0354\n",
              "right_eyebrow_inner_end_y                                            29.0023  ...                                            30.9354\n",
              "right_eyebrow_outer_end_x                                            16.3564  ...                                            15.9259\n",
              "right_eyebrow_outer_end_y                                            29.6475  ...                                            30.6722\n",
              "nose_tip_x                                                           44.4206  ...                                            43.2995\n",
              "nose_tip_y                                                           57.0668  ...                                            64.8895\n",
              "mouth_left_corner_x                                                  61.1953  ...                                            60.6714\n",
              "mouth_left_corner_y                                                  79.9702  ...                                            77.5232\n",
              "mouth_right_corner_x                                                 28.6145  ...                                            31.1918\n",
              "mouth_right_corner_y                                                  77.389  ...                                            76.9973\n",
              "mouth_center_top_lip_x                                               43.3126  ...                                            44.9627\n",
              "mouth_center_top_lip_y                                               72.9355  ...                                            73.7074\n",
              "mouth_center_bottom_lip_x                                            43.1307  ...                                            44.2271\n",
              "mouth_center_bottom_lip_y                                            84.4858  ...                                            86.8712\n",
              "Image                      238 236 237 238 240 240 239 241 241 243 240 23...  ...  147 148 160 196 215 214 216 217 219 220 206 18...\n",
              "\n",
              "[31 rows x 5 columns]"
            ]
          },
          "metadata": {
            "tags": []
          },
          "execution_count": 77
        }
      ]
    },
    {
      "cell_type": "code",
      "metadata": {
        "id": "WXPamctSEioL",
        "colab_type": "code",
        "colab": {
          "base_uri": "https://localhost:8080/",
          "height": 68
        },
        "outputId": "60642c25-d80e-4f66-8bb8-40d4066d4c9f"
      },
      "source": [
        "train_data.isnull().any().value_counts()"
      ],
      "execution_count": null,
      "outputs": [
        {
          "output_type": "execute_result",
          "data": {
            "text/plain": [
              "True     28\n",
              "False     3\n",
              "dtype: int64"
            ]
          },
          "metadata": {
            "tags": []
          },
          "execution_count": 78
        }
      ]
    },
    {
      "cell_type": "code",
      "metadata": {
        "id": "kuAiM9HiEkHq",
        "colab_type": "code",
        "colab": {}
      },
      "source": [
        "train_data.fillna(method = 'ffill',inplace = True)\n",
        "#train_data.reset_index(drop = True,inplace = True)"
      ],
      "execution_count": null,
      "outputs": []
    },
    {
      "cell_type": "code",
      "metadata": {
        "id": "VFauMl_GEmpR",
        "colab_type": "code",
        "colab": {
          "base_uri": "https://localhost:8080/",
          "height": 51
        },
        "outputId": "81b424ec-86a8-4d83-8714-69d93436bb83"
      },
      "source": [
        "train_data.isnull().any().value_counts()"
      ],
      "execution_count": null,
      "outputs": [
        {
          "output_type": "execute_result",
          "data": {
            "text/plain": [
              "False    31\n",
              "dtype: int64"
            ]
          },
          "metadata": {
            "tags": []
          },
          "execution_count": 80
        }
      ]
    },
    {
      "cell_type": "code",
      "metadata": {
        "id": "fYbb_sQjEp8J",
        "colab_type": "code",
        "colab": {}
      },
      "source": [
        "imag = []\n",
        "for i in range(0,7049):\n",
        "    img = train_data['Image'][i].split(' ')\n",
        "    img = ['0' if x == '' else x for x in img]\n",
        "    imag.append(img)"
      ],
      "execution_count": null,
      "outputs": []
    },
    {
      "cell_type": "code",
      "metadata": {
        "id": "DehoZA8-Et_R",
        "colab_type": "code",
        "colab": {}
      },
      "source": [
        "image_list = np.array(imag,dtype = 'float')\n",
        "X_train = image_list.reshape(-1,96,96,1)"
      ],
      "execution_count": null,
      "outputs": []
    },
    {
      "cell_type": "code",
      "metadata": {
        "id": "K0HiTTblEwj4",
        "colab_type": "code",
        "colab": {
          "base_uri": "https://localhost:8080/",
          "height": 268
        },
        "outputId": "c9b8adae-afa1-4e40-b485-f14d2b644791"
      },
      "source": [
        "plt.imshow(X_train[101].reshape(96,96),cmap='gray')\n",
        "plt.show()"
      ],
      "execution_count": null,
      "outputs": [
        {
          "output_type": "display_data",
          "data": {
            "image/png": "[encoded data removed]",
            "text/plain": [
              "<Figure size 432x288 with 1 Axes>"
            ]
          },
          "metadata": {
            "tags": [],
            "needs_background": "light"
          }
        }
      ]
    },
    {
      "cell_type": "code",
      "metadata": {
        "id": "DDP3malRE6Lw",
        "colab_type": "code",
        "colab": {}
      },
      "source": [
        "training = train_data.drop('Image',axis = 1)\n",
        "\n",
        "y_train = []\n",
        "for i in range(0,7049):\n",
        "    y = training.iloc[i,:]\n",
        "\n",
        "    y_train.append(y)\n",
        "y_train = np.array(y_train,dtype = 'float')"
      ],
      "execution_count": null,
      "outputs": []
    },
    {
      "cell_type": "code",
      "metadata": {
        "id": "RKA3COr8FYhM",
        "colab_type": "code",
        "colab": {}
      },
      "source": [
        "from keras.layers import Conv2D,Dropout,Dense,Flatten\n",
        "from keras.models import Sequential\n",
        "\n",
        "model = Sequential([Flatten(input_shape=(96,96)),\n",
        "                         Dense(128, activation=\"relu\"),\n",
        "                         Dropout(0.1),\n",
        "                         Dense(64, activation=\"relu\"),\n",
        "                         Dense(30)\n",
        "                         ])"
      ],
      "execution_count": null,
      "outputs": []
    },
    {
      "cell_type": "code",
      "metadata": {
        "id": "BTZDLA8gE_6n",
        "colab_type": "code",
        "colab": {}
      },
      "source": [
        "from keras.layers.advanced_activations import LeakyReLU\n",
        "from keras.models import Sequential, Model\n",
        "from keras.layers import Activation, Convolution2D, MaxPooling2D, BatchNormalization, Flatten, Dense, Dropout, Conv2D,MaxPool2D, ZeroPadding2D"
      ],
      "execution_count": null,
      "outputs": []
    },
    {
      "cell_type": "code",
      "metadata": {
        "id": "J620QFTaFmyK",
        "colab_type": "code",
        "colab": {
          "base_uri": "https://localhost:8080/",
          "height": 1000
        },
        "outputId": "19befbaf-45d2-4d0a-c91c-954ce0edf44e"
      },
      "source": [
        "model = Sequential()\n",
        "\n",
        "model.add(Convolution2D(32, (3,3), padding='same', use_bias=False, input_shape=(96,96,1)))\n",
        "model.add(LeakyReLU(alpha = 0.1))\n",
        "model.add(BatchNormalization())\n",
        "\n",
        "model.add(Convolution2D(32, (3,3), padding='same', use_bias=False))\n",
        "model.add(LeakyReLU(alpha = 0.1))\n",
        "model.add(BatchNormalization())\n",
        "model.add(MaxPool2D(pool_size=(2, 2)))\n",
        "\n",
        "model.add(Convolution2D(64, (3,3), padding='same', use_bias=False))\n",
        "model.add(LeakyReLU(alpha = 0.1))\n",
        "model.add(BatchNormalization())\n",
        "\n",
        "model.add(Convolution2D(64, (3,3), padding='same', use_bias=False))\n",
        "model.add(LeakyReLU(alpha = 0.1))\n",
        "model.add(BatchNormalization())\n",
        "model.add(MaxPool2D(pool_size=(2, 2)))\n",
        "\n",
        "model.add(Convolution2D(96, (3,3), padding='same', use_bias=False))\n",
        "model.add(LeakyReLU(alpha = 0.1))\n",
        "model.add(BatchNormalization())\n",
        "\n",
        "model.add(Convolution2D(96, (3,3), padding='same', use_bias=False))\n",
        "model.add(LeakyReLU(alpha = 0.1))\n",
        "model.add(BatchNormalization())\n",
        "model.add(MaxPool2D(pool_size=(2, 2)))\n",
        "\n",
        "model.add(Convolution2D(128, (3,3),padding='same', use_bias=False))\n",
        "# model.add(BatchNormalization())\n",
        "model.add(LeakyReLU(alpha = 0.1))\n",
        "model.add(BatchNormalization())\n",
        "\n",
        "model.add(Convolution2D(128, (3,3),padding='same', use_bias=False))\n",
        "model.add(LeakyReLU(alpha = 0.1))\n",
        "model.add(BatchNormalization())\n",
        "model.add(MaxPool2D(pool_size=(2, 2)))\n",
        "\n",
        "model.add(Convolution2D(256, (3,3),padding='same',use_bias=False))\n",
        "model.add(LeakyReLU(alpha = 0.1))\n",
        "model.add(BatchNormalization())\n",
        "\n",
        "model.add(Convolution2D(256, (3,3),padding='same',use_bias=False))\n",
        "model.add(LeakyReLU(alpha = 0.1))\n",
        "model.add(BatchNormalization())\n",
        "model.add(MaxPool2D(pool_size=(2, 2)))\n",
        "\n",
        "model.add(Convolution2D(512, (3,3), padding='same', use_bias=False))\n",
        "model.add(LeakyReLU(alpha = 0.1))\n",
        "model.add(BatchNormalization())\n",
        "\n",
        "model.add(Convolution2D(512, (3,3), padding='same', use_bias=False))\n",
        "model.add(LeakyReLU(alpha = 0.1))\n",
        "model.add(BatchNormalization())\n",
        "\n",
        "\n",
        "model.add(Flatten())\n",
        "model.add(Dense(512,activation='relu'))\n",
        "model.add(Dropout(0.1))\n",
        "model.add(Dense(30))\n",
        "model.summary()"
      ],
      "execution_count": null,
      "outputs": [
        {
          "output_type": "stream",
          "text": [
            "Model: \"sequential_1\"\n",
            "_________________________________________________________________\n",
            "Layer (type)                 Output Shape              Param #   \n",
            "=================================================================\n",
            "conv2d (Conv2D)              (None, 96, 96, 32)        288       \n",
            "_________________________________________________________________\n",
            "leaky_re_lu (LeakyReLU)      (None, 96, 96, 32)        0         \n",
            "_________________________________________________________________\n",
            "batch_normalization (BatchNo (None, 96, 96, 32)        128       \n",
            "_________________________________________________________________\n",
            "conv2d_1 (Conv2D)            (None, 96, 96, 32)        9216      \n",
            "_________________________________________________________________\n",
            "leaky_re_lu_1 (LeakyReLU)    (None, 96, 96, 32)        0         \n",
            "_________________________________________________________________\n",
            "batch_normalization_1 (Batch (None, 96, 96, 32)        128       \n",
            "_________________________________________________________________\n",
            "max_pooling2d (MaxPooling2D) (None, 48, 48, 32)        0         \n",
            "_________________________________________________________________\n",
            "conv2d_2 (Conv2D)            (None, 48, 48, 64)        18432     \n",
            "_________________________________________________________________\n",
            "leaky_re_lu_2 (LeakyReLU)    (None, 48, 48, 64)        0         \n",
            "_________________________________________________________________\n",
            "batch_normalization_2 (Batch (None, 48, 48, 64)        256       \n",
            "_________________________________________________________________\n",
            "conv2d_3 (Conv2D)            (None, 48, 48, 64)        36864     \n",
            "_________________________________________________________________\n",
            "leaky_re_lu_3 (LeakyReLU)    (None, 48, 48, 64)        0         \n",
            "_________________________________________________________________\n",
            "batch_normalization_3 (Batch (None, 48, 48, 64)        256       \n",
            "_________________________________________________________________\n",
            "max_pooling2d_1 (MaxPooling2 (None, 24, 24, 64)        0         \n",
            "_________________________________________________________________\n",
            "conv2d_4 (Conv2D)            (None, 24, 24, 96)        55296     \n",
            "_________________________________________________________________\n",
            "leaky_re_lu_4 (LeakyReLU)    (None, 24, 24, 96)        0         \n",
            "_________________________________________________________________\n",
            "batch_normalization_4 (Batch (None, 24, 24, 96)        384       \n",
            "_________________________________________________________________\n",
            "conv2d_5 (Conv2D)            (None, 24, 24, 96)        82944     \n",
            "_________________________________________________________________\n",
            "leaky_re_lu_5 (LeakyReLU)    (None, 24, 24, 96)        0         \n",
            "_________________________________________________________________\n",
            "batch_normalization_5 (Batch (None, 24, 24, 96)        384       \n",
            "_________________________________________________________________\n",
            "max_pooling2d_2 (MaxPooling2 (None, 12, 12, 96)        0         \n",
            "_________________________________________________________________\n",
            "conv2d_6 (Conv2D)            (None, 12, 12, 128)       110592    \n",
            "_________________________________________________________________\n",
            "leaky_re_lu_6 (LeakyReLU)    (None, 12, 12, 128)       0         \n",
            "_________________________________________________________________\n",
            "batch_normalization_6 (Batch (None, 12, 12, 128)       512       \n",
            "_________________________________________________________________\n",
            "conv2d_7 (Conv2D)            (None, 12, 12, 128)       147456    \n",
            "_________________________________________________________________\n",
            "leaky_re_lu_7 (LeakyReLU)    (None, 12, 12, 128)       0         \n",
            "_________________________________________________________________\n",
            "batch_normalization_7 (Batch (None, 12, 12, 128)       512       \n",
            "_________________________________________________________________\n",
            "max_pooling2d_3 (MaxPooling2 (None, 6, 6, 128)         0         \n",
            "_________________________________________________________________\n",
            "conv2d_8 (Conv2D)            (None, 6, 6, 256)         294912    \n",
            "_________________________________________________________________\n",
            "leaky_re_lu_8 (LeakyReLU)    (None, 6, 6, 256)         0         \n",
            "_________________________________________________________________\n",
            "batch_normalization_8 (Batch (None, 6, 6, 256)         1024      \n",
            "_________________________________________________________________\n",
            "conv2d_9 (Conv2D)            (None, 6, 6, 256)         589824    \n",
            "_________________________________________________________________\n",
            "leaky_re_lu_9 (LeakyReLU)    (None, 6, 6, 256)         0         \n",
            "_________________________________________________________________\n",
            "batch_normalization_9 (Batch (None, 6, 6, 256)         1024      \n",
            "_________________________________________________________________\n",
            "max_pooling2d_4 (MaxPooling2 (None, 3, 3, 256)         0         \n",
            "_________________________________________________________________\n",
            "conv2d_10 (Conv2D)           (None, 3, 3, 512)         1179648   \n",
            "_________________________________________________________________\n",
            "leaky_re_lu_10 (LeakyReLU)   (None, 3, 3, 512)         0         \n",
            "_________________________________________________________________\n",
            "batch_normalization_10 (Batc (None, 3, 3, 512)         2048      \n",
            "_________________________________________________________________\n",
            "conv2d_11 (Conv2D)           (None, 3, 3, 512)         2359296   \n",
            "_________________________________________________________________\n",
            "leaky_re_lu_11 (LeakyReLU)   (None, 3, 3, 512)         0         \n",
            "_________________________________________________________________\n",
            "batch_normalization_11 (Batc (None, 3, 3, 512)         2048      \n",
            "_________________________________________________________________\n",
            "flatten_1 (Flatten)          (None, 4608)              0         \n",
            "_________________________________________________________________\n",
            "dense_3 (Dense)              (None, 512)               2359808   \n",
            "_________________________________________________________________\n",
            "dropout_1 (Dropout)          (None, 512)               0         \n",
            "_________________________________________________________________\n",
            "dense_4 (Dense)              (None, 30)                15390     \n",
            "=================================================================\n",
            "Total params: 7,268,670\n",
            "Trainable params: 7,264,318\n",
            "Non-trainable params: 4,352\n",
            "_________________________________________________________________\n"
          ],
          "name": "stdout"
        }
      ]
    },
    {
      "cell_type": "code",
      "metadata": {
        "id": "0Q5ouM7XF932",
        "colab_type": "code",
        "colab": {}
      },
      "source": [
        "model.compile(optimizer='adam', \n",
        "              loss='mean_squared_error',\n",
        "              metrics=['mae'])"
      ],
      "execution_count": null,
      "outputs": []
    },
    {
      "cell_type": "code",
      "metadata": {
        "id": "-5MUJJvQF_OY",
        "colab_type": "code",
        "colab": {
          "base_uri": "https://localhost:8080/",
          "height": 1000
        },
        "outputId": "c228f525-80f9-4005-a1af-75f000183de2"
      },
      "source": [
        "model.fit(X_train,y_train,epochs = 50,batch_size = 256,validation_split = 0.2)"
      ],
      "execution_count": null,
      "outputs": [
        {
          "output_type": "stream",
          "text": [
            "Epoch 1/50\n",
            "23/23 [==============================] - 527s 23s/step - loss: 343.6292 - mae: 11.9258 - val_loss: 537.5553 - val_mae: 21.1824\n",
            "Epoch 2/50\n",
            "23/23 [==============================] - 524s 23s/step - loss: 32.6365 - mae: 4.4512 - val_loss: 255.9446 - val_mae: 14.7695\n",
            "Epoch 3/50\n",
            "23/23 [==============================] - 524s 23s/step - loss: 25.8503 - mae: 3.9260 - val_loss: 111.9548 - val_mae: 9.7065\n",
            "Epoch 4/50\n",
            "23/23 [==============================] - 527s 23s/step - loss: 23.6098 - mae: 3.7367 - val_loss: 125.7162 - val_mae: 10.3023\n",
            "Epoch 5/50\n",
            "23/23 [==============================] - 524s 23s/step - loss: 21.6930 - mae: 3.5693 - val_loss: 83.0796 - val_mae: 8.4190\n",
            "Epoch 6/50\n",
            "23/23 [==============================] - 516s 22s/step - loss: 20.4765 - mae: 3.4584 - val_loss: 73.0276 - val_mae: 7.7482\n",
            "Epoch 7/50\n",
            "23/23 [==============================] - 523s 23s/step - loss: 19.1068 - mae: 3.3301 - val_loss: 38.4391 - val_mae: 5.4618\n",
            "Epoch 8/50\n",
            "23/23 [==============================] - 530s 23s/step - loss: 17.4588 - mae: 3.1710 - val_loss: 21.7034 - val_mae: 3.9933\n",
            "Epoch 9/50\n",
            "23/23 [==============================] - 514s 22s/step - loss: 16.8590 - mae: 3.1250 - val_loss: 48.0429 - val_mae: 6.1941\n",
            "Epoch 10/50\n",
            "23/23 [==============================] - 517s 22s/step - loss: 17.1211 - mae: 3.1464 - val_loss: 19.7117 - val_mae: 3.6876\n",
            "Epoch 11/50\n",
            "23/23 [==============================] - 531s 23s/step - loss: 14.8556 - mae: 2.9156 - val_loss: 16.1252 - val_mae: 3.3501\n",
            "Epoch 12/50\n",
            "23/23 [==============================] - 524s 23s/step - loss: 14.2006 - mae: 2.8549 - val_loss: 5.9618 - val_mae: 1.6279\n",
            "Epoch 13/50\n",
            "23/23 [==============================] - 528s 23s/step - loss: 14.3807 - mae: 2.8761 - val_loss: 4.9665 - val_mae: 1.3431\n",
            "Epoch 14/50\n",
            "23/23 [==============================] - 529s 23s/step - loss: 13.6935 - mae: 2.8087 - val_loss: 13.2381 - val_mae: 2.9137\n",
            "Epoch 15/50\n",
            "23/23 [==============================] - 521s 23s/step - loss: 13.3421 - mae: 2.7585 - val_loss: 4.4755 - val_mae: 1.2930\n",
            "Epoch 16/50\n",
            "23/23 [==============================] - 514s 22s/step - loss: 12.7368 - mae: 2.6936 - val_loss: 5.1700 - val_mae: 1.4000\n",
            "Epoch 17/50\n",
            "23/23 [==============================] - 516s 22s/step - loss: 12.2097 - mae: 2.6291 - val_loss: 5.8292 - val_mae: 1.4859\n",
            "Epoch 18/50\n",
            "23/23 [==============================] - 516s 22s/step - loss: 11.8603 - mae: 2.5866 - val_loss: 6.1261 - val_mae: 1.7150\n",
            "Epoch 19/50\n",
            "23/23 [==============================] - 520s 23s/step - loss: 11.4526 - mae: 2.5529 - val_loss: 5.6425 - val_mae: 1.6666\n",
            "Epoch 20/50\n",
            "23/23 [==============================] - 527s 23s/step - loss: 11.4664 - mae: 2.5592 - val_loss: 4.6339 - val_mae: 1.3627\n",
            "Epoch 21/50\n",
            "23/23 [==============================] - 535s 23s/step - loss: 10.3066 - mae: 2.4200 - val_loss: 9.8756 - val_mae: 2.2339\n",
            "Epoch 22/50\n",
            "23/23 [==============================] - 539s 23s/step - loss: 10.8423 - mae: 2.4844 - val_loss: 4.8563 - val_mae: 1.3178\n",
            "Epoch 23/50\n",
            "23/23 [==============================] - 531s 23s/step - loss: 9.6192 - mae: 2.3349 - val_loss: 17.8512 - val_mae: 3.6477\n",
            "Epoch 24/50\n",
            "23/23 [==============================] - 526s 23s/step - loss: 14.1080 - mae: 2.8641 - val_loss: 4.0525 - val_mae: 1.1852\n",
            "Epoch 25/50\n",
            "23/23 [==============================] - 523s 23s/step - loss: 8.8816 - mae: 2.2415 - val_loss: 3.8088 - val_mae: 1.3148\n",
            "Epoch 26/50\n",
            "23/23 [==============================] - 525s 23s/step - loss: 8.9551 - mae: 2.2637 - val_loss: 5.9462 - val_mae: 1.6529\n",
            "Epoch 27/50\n",
            "23/23 [==============================] - 505s 22s/step - loss: 8.7682 - mae: 2.2387 - val_loss: 4.1757 - val_mae: 1.2156\n",
            "Epoch 28/50\n",
            "23/23 [==============================] - 510s 22s/step - loss: 8.0747 - mae: 2.1462 - val_loss: 5.6629 - val_mae: 1.6763\n",
            "Epoch 29/50\n",
            "23/23 [==============================] - 500s 22s/step - loss: 8.7527 - mae: 2.2251 - val_loss: 4.8355 - val_mae: 1.5539\n",
            "Epoch 30/50\n",
            "23/23 [==============================] - 508s 22s/step - loss: 8.0004 - mae: 2.1291 - val_loss: 2.9969 - val_mae: 1.0352\n",
            "Epoch 31/50\n",
            "23/23 [==============================] - 505s 22s/step - loss: 7.8629 - mae: 2.1116 - val_loss: 13.7851 - val_mae: 3.0955\n",
            "Epoch 32/50\n",
            "23/23 [==============================] - 500s 22s/step - loss: 10.1857 - mae: 2.4283 - val_loss: 4.3462 - val_mae: 1.3394\n",
            "Epoch 33/50\n",
            "23/23 [==============================] - 506s 22s/step - loss: 7.4832 - mae: 2.0663 - val_loss: 5.8191 - val_mae: 1.9150\n",
            "Epoch 34/50\n",
            "23/23 [==============================] - 506s 22s/step - loss: 8.2521 - mae: 2.1743 - val_loss: 7.4867 - val_mae: 2.1805\n",
            "Epoch 35/50\n",
            "23/23 [==============================] - 511s 22s/step - loss: 9.3525 - mae: 2.3327 - val_loss: 2.8461 - val_mae: 0.9776\n",
            "Epoch 36/50\n",
            "23/23 [==============================] - 529s 23s/step - loss: 7.0985 - mae: 2.0147 - val_loss: 3.1947 - val_mae: 1.1173\n",
            "Epoch 37/50\n",
            "23/23 [==============================] - 510s 22s/step - loss: 7.4682 - mae: 2.0741 - val_loss: 4.4815 - val_mae: 1.4643\n",
            "Epoch 38/50\n",
            "23/23 [==============================] - 500s 22s/step - loss: 7.1776 - mae: 2.0234 - val_loss: 16.5541 - val_mae: 3.5698\n",
            "Epoch 39/50\n",
            "23/23 [==============================] - 512s 22s/step - loss: 11.3943 - mae: 2.6056 - val_loss: 3.9202 - val_mae: 1.4652\n",
            "Epoch 40/50\n",
            "23/23 [==============================] - 502s 22s/step - loss: 6.6523 - mae: 1.9488 - val_loss: 4.8470 - val_mae: 1.4463\n",
            "Epoch 41/50\n",
            "23/23 [==============================] - 514s 22s/step - loss: 7.2898 - mae: 2.0510 - val_loss: 20.8424 - val_mae: 3.9940\n",
            "Epoch 42/50\n",
            "23/23 [==============================] - 521s 23s/step - loss: 10.5444 - mae: 2.4985 - val_loss: 11.9945 - val_mae: 2.6483\n",
            "Epoch 43/50\n",
            "23/23 [==============================] - 532s 23s/step - loss: 8.7140 - mae: 2.2478 - val_loss: 15.3860 - val_mae: 3.4372\n",
            "Epoch 44/50\n",
            "23/23 [==============================] - 522s 23s/step - loss: 7.6796 - mae: 2.0813 - val_loss: 5.4827 - val_mae: 1.7525\n",
            "Epoch 45/50\n",
            "23/23 [==============================] - 518s 23s/step - loss: 7.7891 - mae: 2.1176 - val_loss: 2.8442 - val_mae: 0.9692\n",
            "Epoch 46/50\n",
            "23/23 [==============================] - 513s 22s/step - loss: 7.7162 - mae: 2.1185 - val_loss: 4.4868 - val_mae: 1.5863\n",
            "Epoch 47/50\n",
            "23/23 [==============================] - 521s 23s/step - loss: 5.6949 - mae: 1.8014 - val_loss: 38.3943 - val_mae: 5.6348\n",
            "Epoch 48/50\n",
            "23/23 [==============================] - 519s 23s/step - loss: 11.6872 - mae: 2.6295 - val_loss: 4.2281 - val_mae: 1.2643\n",
            "Epoch 49/50\n",
            "23/23 [==============================] - 519s 23s/step - loss: 7.6409 - mae: 2.0863 - val_loss: 7.6392 - val_mae: 2.0230\n",
            "Epoch 50/50\n",
            "23/23 [==============================] - 530s 23s/step - loss: 6.1181 - mae: 1.8639 - val_loss: 7.1620 - val_mae: 2.1692\n"
          ],
          "name": "stdout"
        },
        {
          "output_type": "execute_result",
          "data": {
            "text/plain": [
              "<tensorflow.python.keras.callbacks.History at 0x7f35094d9978>"
            ]
          },
          "metadata": {
            "tags": []
          },
          "execution_count": 96
        }
      ]
    },
    {
      "cell_type": "code",
      "metadata": {
        "id": "e93gyuCutoYR",
        "colab_type": "code",
        "colab": {}
      },
      "source": [
        "#preparing test data\n",
        "timag = []\n",
        "for i in range(0,1783):\n",
        "    timg = test_data['Image'][i].split(' ')\n",
        "    timg = ['0' if x == '' else x for x in timg]\n",
        "    \n",
        "    timag.append(timg)"
      ],
      "execution_count": null,
      "outputs": []
    },
    {
      "cell_type": "code",
      "metadata": {
        "id": "sL6DBsIeGHf3",
        "colab_type": "code",
        "colab": {}
      },
      "source": [
        "timage_list = np.array(timag,dtype = 'float')\n",
        "X_test = timage_list.reshape(-1,96,96,1)"
      ],
      "execution_count": null,
      "outputs": []
    },
    {
      "cell_type": "code",
      "metadata": {
        "id": "w7EidZcNGFDW",
        "colab_type": "code",
        "colab": {}
      },
      "source": [
        "#preparing test data\n",
        "timag = []\n",
        "for i in range(0,1783):\n",
        "    timg = test_data['Image'][i].split(' ')\n",
        "    timg = ['0' if x == '' else x for x in timg]\n",
        "    \n",
        "    timag.append(timg)"
      ],
      "execution_count": null,
      "outputs": []
    },
    {
      "cell_type": "code",
      "metadata": {
        "id": "cYC9BTL4GIGN",
        "colab_type": "code",
        "colab": {
          "base_uri": "https://localhost:8080/",
          "height": 268
        },
        "outputId": "9ffc6c0e-0f58-4b00-defc-f4f3925b3b7f"
      },
      "source": [
        "plt.imshow(X_test[0].reshape(96,96),cmap = 'gray')\n",
        "plt.show()"
      ],
      "execution_count": null,
      "outputs": [
        {
          "output_type": "display_data",
          "data": {
            "image/png": "[encoded data removed]",
            "text/plain": [
              "<Figure size 432x288 with 1 Axes>"
            ]
          },
          "metadata": {
            "tags": [],
            "needs_background": "light"
          }
        }
      ]
    },
    {
      "cell_type": "code",
      "metadata": {
        "id": "DDfE_ac5GKKe",
        "colab_type": "code",
        "colab": {}
      },
      "source": [
        "pred = model.predict(X_test)"
      ],
      "execution_count": null,
      "outputs": []
    },
    {
      "cell_type": "code",
      "metadata": {
        "id": "RQgSS05jCc_m",
        "colab_type": "code",
        "colab": {}
      },
      "source": [
        "lookid_list = list(lookid_data['FeatureName'])\n",
        "imageID = list(lookid_data['ImageId']-1)\n",
        "pre_list = list(pred)"
      ],
      "execution_count": null,
      "outputs": []
    },
    {
      "cell_type": "code",
      "metadata": {
        "id": "YuygafjrCfAB",
        "colab_type": "code",
        "colab": {}
      },
      "source": [
        "rowid = lookid_data['RowId']\n",
        "rowid=list(rowid)"
      ],
      "execution_count": null,
      "outputs": []
    },
    {
      "cell_type": "code",
      "metadata": {
        "id": "pqRLmHUaChOE",
        "colab_type": "code",
        "colab": {}
      },
      "source": [
        "feature = []\n",
        "for f in list(lookid_data['FeatureName']):\n",
        "    feature.append(lookid_list.index(f))"
      ],
      "execution_count": null,
      "outputs": []
    },
    {
      "cell_type": "code",
      "metadata": {
        "id": "6n-N7cahCjSp",
        "colab_type": "code",
        "colab": {}
      },
      "source": [
        "preded = []\n",
        "for x,y in zip(imageID,feature):\n",
        "    preded.append(pre_list[x][y])"
      ],
      "execution_count": null,
      "outputs": []
    },
    {
      "cell_type": "code",
      "metadata": {
        "id": "JmGHkMBcCmAy",
        "colab_type": "code",
        "colab": {}
      },
      "source": [
        "rowid = pd.Series(rowid,name = 'RowId')"
      ],
      "execution_count": null,
      "outputs": []
    },
    {
      "cell_type": "code",
      "metadata": {
        "id": "O30nv5uECol2",
        "colab_type": "code",
        "colab": {}
      },
      "source": [
        "loc = pd.Series(preded,name = 'Location')"
      ],
      "execution_count": null,
      "outputs": []
    },
    {
      "cell_type": "code",
      "metadata": {
        "id": "Bum8z-faCqLJ",
        "colab_type": "code",
        "colab": {}
      },
      "source": [
        "submission = pd.concat([rowid,loc],axis = 1)"
      ],
      "execution_count": null,
      "outputs": []
    },
    {
      "cell_type": "code",
      "metadata": {
        "id": "oZw1klQtCr1g",
        "colab_type": "code",
        "colab": {}
      },
      "source": [
        "submission.to_csv('face_key_detection_submission.csv',index = False)"
      ],
      "execution_count": null,
      "outputs": []
    }
  ]
}